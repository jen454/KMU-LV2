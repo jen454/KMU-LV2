{
  "nbformat": 4,
  "nbformat_minor": 0,
  "metadata": {
    "colab": {
      "provenance": []
    },
    "kernelspec": {
      "name": "python3",
      "display_name": "Python 3"
    },
    "language_info": {
      "name": "python"
    }
  },
  "cells": [
    {
      "cell_type": "code",
      "source": [
        "!sudo apt-get install -y fonts-nanum\n",
        "!sudo fc-cache -fv\n",
        "!rm ~/.cache/matplotlib -rf"
      ],
      "metadata": {
        "id": "F0Yn1t5cdh9y"
      },
      "execution_count": null,
      "outputs": []
    },
    {
      "cell_type": "code",
      "source": [
        "import pandas as pd\n",
        "import matplotlib.pyplot as plt\n",
        "plt.rcParams['font.family'] = 'NanumBarunGothic'"
      ],
      "metadata": {
        "id": "ptFx2-yQdOfq"
      },
      "execution_count": null,
      "outputs": []
    },
    {
      "cell_type": "markdown",
      "source": [
        "- csv파일 pandas를 이용하여 가져오기\n",
        "- 조건에 맞는 데이터 추출법\n"
      ],
      "metadata": {
        "id": "gZQnz-kaFQ5E"
      }
    },
    {
      "cell_type": "code",
      "source": [
        "data = pd.read_csv('gts-seoul.csv')\n",
        "\n",
        "# 방법 1\n",
        "data_test = data.loc[data['일시']==\"2011-03-21 06:00\",:]\n",
        "print(data_test[\"습도\"]+data_test[\"풍속\"]+data_test[\"현지기압\"]+data_test[\"기온\"]+data_test[\"이슬점 온도\"])\n",
        "\n",
        "# 방법 2\n",
        "# data_test에서 아예 열들도 추출하고 sum(axis=1)\n",
        "# 가로 합 -> 열들의 합 axis=1\n",
        "# 세로 합 -> 행들의 합 axis=0\n",
        "test = data.loc[data[\"일시\"]==\"2011-03-21 06:00\", [\"습도\", \"풍속\", \"현지기압\", \"기온\", \"이슬점 온도\"]]\n",
        "print(test.sum(axis=1))"
      ],
      "metadata": {
        "colab": {
          "base_uri": "https://localhost:8080/"
        },
        "id": "B0FoMbwYoVcc",
        "outputId": "2bfd44e2-8ea1-4659-8289-8f336864174d"
      },
      "execution_count": null,
      "outputs": [
        {
          "output_type": "stream",
          "name": "stdout",
          "text": [
            "2101    1038.9\n",
            "dtype: float64\n"
          ]
        }
      ]
    },
    {
      "cell_type": "markdown",
      "source": [
        "- 데이터 전처리하기 -> 앞으로 전처리한 데이터를 사용하자!\n",
        "- dropna() -> Nan 값이 있는 행을 지운다.(꼭 할당 해주자!)\n",
        "- 전처리 순서 주의하자! 추출하고 행 지우기였다.!\n",
        "- dropna(axis=0) -> 행제거\n",
        "- dropna(axis=1) -> 열제거"
      ],
      "metadata": {
        "id": "QJAtqG9vCcce"
      }
    },
    {
      "cell_type": "code",
      "source": [
        "data_pt = data[[\"습도\",\"풍속\",\"현지기압\",\"기온\",\"이슬점 온도\"]].dropna()\n",
        "print(data_pt)\n",
        "\n",
        "print(len(data_pt)+data_pt[\"습도\"].mean()+max(data_pt[\"풍속\"])+min(data_pt[\"기온\"]))"
      ],
      "metadata": {
        "colab": {
          "base_uri": "https://localhost:8080/"
        },
        "id": "NHzGaxvacf8h",
        "outputId": "230fee17-8b6e-4002-e1e6-ba638df58cab"
      },
      "execution_count": null,
      "outputs": [
        {
          "output_type": "stream",
          "name": "stdout",
          "text": [
            "         습도    풍속   현지기압    기온  이슬점 온도\n",
            "0      70.7   3.0  995.0  25.0    19.3\n",
            "1      61.8   3.0  993.9  27.9    19.9\n",
            "2      49.7   3.0  992.3  30.5    18.8\n",
            "3      66.8   6.0  992.1  28.8    22.0\n",
            "4      79.6   4.0  993.4  26.3    22.5\n",
            "...     ...   ...    ...   ...     ...\n",
            "32080  65.7  11.0  987.0  21.7    15.0\n",
            "32081  83.8   5.0  989.7  18.9    16.1\n",
            "32082  84.9   7.0  991.2  18.8    16.2\n",
            "32083  85.9   4.0  991.7  18.4    16.0\n",
            "32084  88.7   6.0  992.7  18.3    16.4\n",
            "\n",
            "[32068 rows x 5 columns]\n",
            "32128.421619683173\n"
          ]
        }
      ]
    },
    {
      "cell_type": "markdown",
      "source": [
        "- pearson 상관계수 -> corr(method='pearson') 함수 사용하기\n",
        "- 특정 열에 대한 상관계수 값들의 합은 sum() 함수 적용 후 -1하자!\n"
      ],
      "metadata": {
        "id": "c0_GguTpCyYN"
      }
    },
    {
      "cell_type": "code",
      "source": [
        "data_pearson = data_pt.corr(method='pearson')\n",
        "print(data_pearson)\n",
        "\n",
        "data_pearson_tm = data_pearson[\"이슬점 온도\"]\n",
        "dpt_sum = data_pearson_tm.sum()\n",
        "print(dpt_sum)\n",
        "\n",
        "# 방법 2\n",
        "data_corr = data_pt.corr(method=\"pearson\")\n",
        "corr_sum = data_corr[\"이슬점 온도\"].sum()-1\n",
        "print(corr_sum)"
      ],
      "metadata": {
        "colab": {
          "base_uri": "https://localhost:8080/"
        },
        "id": "S-SzMmVnoZ7Y",
        "outputId": "b155e837-262f-4791-dd39-afcfdd9f9160"
      },
      "execution_count": null,
      "outputs": [
        {
          "output_type": "stream",
          "name": "stdout",
          "text": [
            "              습도        풍속      현지기압        기온    이슬점 온도\n",
            "습도      1.000000 -0.208003 -0.097019  0.176056  0.572123\n",
            "풍속     -0.208003  1.000000 -0.038114  0.010847 -0.086802\n",
            "현지기압   -0.097019 -0.038114  1.000000 -0.204052 -0.209702\n",
            "기온      0.176056  0.010847 -0.204052  1.000000  0.903583\n",
            "이슬점 온도  0.572123 -0.086802 -0.209702  0.903583  1.000000\n",
            "2.1792022126818202\n"
          ]
        }
      ]
    },
    {
      "cell_type": "markdown",
      "source": [
        "- 그래프 캡쳐 문제는 subplot을 떠올리자!\n",
        "- 산점도 -> scatter(x,y)"
      ],
      "metadata": {
        "id": "_gaBAvxOCGJ-"
      }
    },
    {
      "cell_type": "code",
      "source": [
        "plt.figure(figsize=(12,8)) # -> 한 이미지당 얼마만큼의 크기인지\n",
        "# 습도와 이슬점 온도 산점도\n",
        "plt.subplot(2, 2, 1)\n",
        "plt.scatter(data_pt['습도'], data_pt['이슬점 온도'])\n",
        "plt.xlabel('습도')\n",
        "plt.ylabel('이슬점 온도')\n",
        "plt.title('습도 vs 이슬점 온도')\n",
        "\n",
        "# 풍속과 이슬점 온도 산점도\n",
        "plt.subplot(2, 2, 2)\n",
        "plt.scatter(data_pt['풍속'], data_pt['이슬점 온도'])\n",
        "plt.xlabel('풍속')\n",
        "plt.ylabel('이슬점 온도')\n",
        "plt.title('풍속 vs 이슬점 온도')\n",
        "\n",
        "# 현지기압과 이슬점 온도 산점도\n",
        "plt.subplot(2, 2, 3)\n",
        "plt.scatter(data_pt['현지기압'], data_pt['이슬점 온도'])\n",
        "plt.xlabel('현지기압')\n",
        "plt.ylabel('이슬점 온도')\n",
        "plt.title('현지기압 vs 이슬점 온도')\n",
        "\n",
        "# 기온과 이슬점 온도 산점도\n",
        "plt.subplot(2, 2, 4)\n",
        "plt.scatter(data_pt['기온'], data_pt['이슬점 온도'])\n",
        "plt.xlabel('기온')\n",
        "plt.ylabel('이슬점 온도')\n",
        "plt.title('기온 vs 이슬점 온도')\n",
        "\n",
        "# 그림 저장\n",
        "plt.tight_layout()\n",
        "plt.savefig('scatter_plots1.png')\n",
        "plt.show()"
      ],
      "metadata": {
        "id": "OPg-xdOUi2c4"
      },
      "execution_count": null,
      "outputs": []
    },
    {
      "cell_type": "markdown",
      "source": [
        "- 또 전처리 -> 이 이후에 또 전처리한 데이터를 쓰자!"
      ],
      "metadata": {
        "id": "11L7krrNDTzU"
      }
    },
    {
      "cell_type": "code",
      "source": [
        "data_pt2 = data_pt.loc[data_pt[\"현지기압\"] >= 200]\n",
        "print(data_pt)\n",
        "print(data_pt2)"
      ],
      "metadata": {
        "colab": {
          "base_uri": "https://localhost:8080/"
        },
        "id": "RI3mCI3r9LX5",
        "outputId": "9baba77e-7615-4730-82a5-ef3405abbfd8"
      },
      "execution_count": null,
      "outputs": [
        {
          "output_type": "stream",
          "name": "stdout",
          "text": [
            "         습도    풍속   현지기압    기온  이슬점 온도\n",
            "0      70.7   3.0  995.0  25.0    19.3\n",
            "1      61.8   3.0  993.9  27.9    19.9\n",
            "2      49.7   3.0  992.3  30.5    18.8\n",
            "3      66.8   6.0  992.1  28.8    22.0\n",
            "4      79.6   4.0  993.4  26.3    22.5\n",
            "...     ...   ...    ...   ...     ...\n",
            "32080  65.7  11.0  987.0  21.7    15.0\n",
            "32081  83.8   5.0  989.7  18.9    16.1\n",
            "32082  84.9   7.0  991.2  18.8    16.2\n",
            "32083  85.9   4.0  991.7  18.4    16.0\n",
            "32084  88.7   6.0  992.7  18.3    16.4\n",
            "\n",
            "[32068 rows x 5 columns]\n",
            "         습도    풍속   현지기압    기온  이슬점 온도\n",
            "0      70.7   3.0  995.0  25.0    19.3\n",
            "1      61.8   3.0  993.9  27.9    19.9\n",
            "2      49.7   3.0  992.3  30.5    18.8\n",
            "3      66.8   6.0  992.1  28.8    22.0\n",
            "4      79.6   4.0  993.4  26.3    22.5\n",
            "...     ...   ...    ...   ...     ...\n",
            "32080  65.7  11.0  987.0  21.7    15.0\n",
            "32081  83.8   5.0  989.7  18.9    16.1\n",
            "32082  84.9   7.0  991.2  18.8    16.2\n",
            "32083  85.9   4.0  991.7  18.4    16.0\n",
            "32084  88.7   6.0  992.7  18.3    16.4\n",
            "\n",
            "[32027 rows x 5 columns]\n"
          ]
        }
      ]
    },
    {
      "cell_type": "markdown",
      "source": [
        "- 데이터 특정 열 접근 때 [[]]를 사용하면 집계함수 계산 값이 더 간단하게 나온다."
      ],
      "metadata": {
        "id": "Zf7hgx8JD8UM"
      }
    },
    {
      "cell_type": "code",
      "source": [
        "data_pearson2 = data_pt2.corr(method='pearson')\n",
        "print(data_pearson2)\n",
        "\n",
        "data_pearson_tm2 = data_pearson2[[\"이슬점 온도\"]]\n",
        "dpt_sum2 = data_pearson_tm2.sum()\n",
        "print(dpt_sum2)"
      ],
      "metadata": {
        "colab": {
          "base_uri": "https://localhost:8080/"
        },
        "id": "0fG2tYd9egO_",
        "outputId": "1138c8c2-7450-4d70-98b0-6d2c4216f229"
      },
      "execution_count": null,
      "outputs": [
        {
          "output_type": "stream",
          "name": "stdout",
          "text": [
            "              습도        풍속      현지기압        기온    이슬점 온도\n",
            "습도      1.000000 -0.207624 -0.359687  0.176078  0.572122\n",
            "풍속     -0.207624  1.000000 -0.118371  0.010655 -0.086814\n",
            "현지기압   -0.359687 -0.118371  1.000000 -0.748598 -0.770175\n",
            "기온      0.176078  0.010655 -0.748598  1.000000  0.903592\n",
            "이슬점 온도  0.572122 -0.086814 -0.770175  0.903592  1.000000\n",
            "이슬점 온도    1.618725\n",
            "dtype: float64\n"
          ]
        }
      ]
    },
    {
      "cell_type": "code",
      "source": [
        "# plt.figure(figsize=(12,8)) # 필수 코드 x\n",
        "# 습도와 이슬점 온도 산점도\n",
        "plt.subplot(2, 2, 1)\n",
        "plt.scatter(data_pt2['습도'], data_pt2['이슬점 온도'])\n",
        "plt.xlabel('습도')\n",
        "plt.ylabel('이슬점 온도')\n",
        "plt.title('습도 vs 이슬점 온도')\n",
        "\n",
        "# 풍속과 이슬점 온도 산점도\n",
        "plt.subplot(2, 2, 2)\n",
        "plt.scatter(data_pt2['풍속'], data_pt2['이슬점 온도'])\n",
        "plt.xlabel('풍속')\n",
        "plt.ylabel('이슬점 온도')\n",
        "plt.title('풍속 vs 이슬점 온도')\n",
        "\n",
        "# 현지기압과 이슬점 온도 산점도\n",
        "plt.subplot(2, 2, 3)\n",
        "plt.scatter(data_pt2['현지기압'], data_pt2['이슬점 온도'])\n",
        "plt.xlabel('현지기압')\n",
        "plt.ylabel('이슬점 온도')\n",
        "plt.title('현지기압 vs 이슬점 온도')\n",
        "\n",
        "# 기온과 이슬점 온도 산점도\n",
        "plt.subplot(2, 2, 4)\n",
        "plt.scatter(data_pt2['기온'], data_pt2['이슬점 온도'])\n",
        "plt.xlabel('기온')\n",
        "plt.ylabel('이슬점 온도')\n",
        "plt.title('기온 vs 이슬점 온도')\n",
        "\n",
        "# 그림 저장\n",
        "plt.tight_layout()\n",
        "plt.savefig('scatter_plots2.png')\n",
        "plt.show()"
      ],
      "metadata": {
        "id": "JQmfexk7gtrO"
      },
      "execution_count": null,
      "outputs": []
    },
    {
      "cell_type": "markdown",
      "source": [
        "- Regression 기법 -> Linear Regression을 떠올리자!\n",
        "- w,b 값을 구하고 싶을땐 sklearn을 사용하면 편하다!"
      ],
      "metadata": {
        "id": "NAHb4h2WEUFx"
      }
    },
    {
      "cell_type": "code",
      "source": [
        "from sklearn.linear_model import LinearRegression\n",
        "\n",
        "x = data_pt2[[\"습도\", \"풍속\", \"현지기압\", \"기온\"]]\n",
        "y = data_pt2[[\"이슬점 온도\"]]\n",
        "\n",
        "lr = LinearRegression()\n",
        "lr.fit(x,y)\n",
        "\n",
        "print(lr.coef_, lr.intercept_)"
      ],
      "metadata": {
        "colab": {
          "base_uri": "https://localhost:8080/"
        },
        "id": "HVLGVuDrg3hR",
        "outputId": "dbdd6116-e8dc-4343-9f23-1890e50eec30"
      },
      "execution_count": null,
      "outputs": [
        {
          "output_type": "stream",
          "name": "stdout",
          "text": [
            "[[ 0.2676329  -0.03078923  0.00952646  0.92936961]] [-32.91662937]\n"
          ]
        }
      ]
    },
    {
      "cell_type": "markdown",
      "source": [
        "- MSE 구하기\n",
        "1. 수업시간에 배운대로 가설함수를 세우고 cost를 구한다. (torch가 아니라면 데이터 값들을 numpy로 만들어서 한다.)\n",
        "2. sklearn 내장함수인 mse를 사용한다."
      ],
      "metadata": {
        "id": "VAQvy6Y2Fz31"
      }
    },
    {
      "cell_type": "code",
      "source": [
        "import numpy as np\n",
        "x = np.array(x) # 데이터 타입 : 데이터 프레임 -> matrix\n",
        "h = np.dot(x,lr.coef_.T) +  lr.intercept_ # w*x(내적) + b\n",
        "cost = ((h-y)**2).mean()\n",
        "print(cost)\n",
        "\n",
        "from sklearn.metrics import mean_squared_error\n",
        "cost_sklearn = mean_squared_error(y,h)\n",
        "print(cost_sklearn)"
      ],
      "metadata": {
        "colab": {
          "base_uri": "https://localhost:8080/"
        },
        "id": "JHjFwp_1urcF",
        "outputId": "7d3eebdf-b78b-4ddc-8af0-11d954c3b821"
      },
      "execution_count": null,
      "outputs": [
        {
          "output_type": "stream",
          "name": "stdout",
          "text": [
            "[[ 70.7   3.  995.   25. ]\n",
            " [ 61.8   3.  993.9  27.9]\n",
            " [ 49.7   3.  992.3  30.5]\n",
            " ...\n",
            " [ 84.9   7.  991.2  18.8]\n",
            " [ 85.9   4.  991.7  18.4]\n",
            " [ 88.7   6.  992.7  18.3]]\n",
            "32027\n",
            "[[ 0.2676329  -0.03078923  0.00952646  0.92936961]]\n",
            "1\n",
            "이슬점 온도    1.168515\n",
            "dtype: float64\n",
            "1.168514629572586\n"
          ]
        }
      ]
    }
  ]
}