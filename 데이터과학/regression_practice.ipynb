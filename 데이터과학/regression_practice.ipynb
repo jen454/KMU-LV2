{
  "nbformat": 4,
  "nbformat_minor": 0,
  "metadata": {
    "colab": {
      "provenance": []
    },
    "kernelspec": {
      "name": "python3",
      "display_name": "Python 3"
    },
    "language_info": {
      "name": "python"
    }
  },
  "cells": [
    {
      "cell_type": "markdown",
      "source": [
        "Linear Regression"
      ],
      "metadata": {
        "id": "QE5f7IzQCHMy"
      }
    },
    {
      "cell_type": "code",
      "execution_count": null,
      "metadata": {
        "colab": {
          "base_uri": "https://localhost:8080/"
        },
        "id": "5ARZRqy204yB",
        "outputId": "898aec7f-2ef0-4224-f172-c9712d08c289"
      },
      "outputs": [
        {
          "output_type": "stream",
          "name": "stdout",
          "text": [
            "x = tensor([[1, 2, 3],\n",
            "        [4, 5, 6],\n",
            "        [7, 8, 9]])\n",
            "y = tensor([[1., 2., 3.],\n",
            "        [4., 5., 6.],\n",
            "        [7., 8., 9.]])\n",
            "Size: torch.Size([3, 3])\n",
            "Shape: torch.Size([3, 3])\n",
            "차원(랭크): 2\n",
            "x0.shape: torch.Size([1, 3, 3])\n",
            "x1.shape: torch.Size([3, 1, 3])\n",
            "x2.shape: torch.Size([3, 3, 1])\n",
            "x0 = tensor([[[1, 2, 3],\n",
            "         [4, 5, 6],\n",
            "         [7, 8, 9]]])\n",
            "x1 = tensor([[[1, 2, 3]],\n",
            "\n",
            "        [[4, 5, 6]],\n",
            "\n",
            "        [[7, 8, 9]]])\n",
            "x2 = tensor([[[1],\n",
            "         [2],\n",
            "         [3]],\n",
            "\n",
            "        [[4],\n",
            "         [5],\n",
            "         [6]],\n",
            "\n",
            "        [[7],\n",
            "         [8],\n",
            "         [9]]])\n",
            "x3 = tensor([[1, 2, 3],\n",
            "        [4, 5, 6],\n",
            "        [7, 8, 9]])\n",
            "x3.shape = torch.Size([3, 3])\n",
            "x4 = tensor([1, 2, 3, 4, 5, 6, 7, 8, 9])\n",
            "x5 = tensor([[[1, 2, 3],\n",
            "         [4, 5, 6],\n",
            "         [7, 8, 9]]])\n",
            "tensor([[-0.2747],\n",
            "        [-0.9064],\n",
            "        [-0.2910]])\n",
            "l을 w로 미분한 값은 tensor(18.)\n"
          ]
        }
      ],
      "source": [
        "import torch\n",
        "\n",
        "x = torch.tensor([[1,2,3], [4,5,6], [7,8,9]])\n",
        "y = torch.FloatTensor([[1,2,3], [4,5,6], [7,8,9]])\n",
        "print(\"x =\", x)\n",
        "print(\"y =\", y)\n",
        "print(\"Size:\", x.size())\n",
        "print(\"Shape:\", x.shape)\n",
        "print(\"차원(랭크):\", x.ndimension())\n",
        "\n",
        "x0 = torch.unsqueeze(x,0)\n",
        "x1 = torch.unsqueeze(x,1)\n",
        "x2 = torch.unsqueeze(x,2)\n",
        "print(\"x0.shape:\",x0.shape)\n",
        "print(\"x1.shape:\",x1.shape)\n",
        "print(\"x2.shape:\",x2.shape)\n",
        "print(\"x0 =\", x0)\n",
        "print(\"x1 =\", x1)\n",
        "print(\"x2 =\", x2)\n",
        "\n",
        "x3 = torch.squeeze(torch.squeeze(x0))\n",
        "print(\"x3 =\", x3)\n",
        "print(\"x3.shape =\", x3.shape)\n",
        "\n",
        "x4 = x.view(9)\n",
        "x5 = x.view(1,3,3)\n",
        "print(\"x4 =\", x4)\n",
        "print(\"x5 =\", x5)\n",
        "\n",
        "x = torch.FloatTensor([[1,2], [3,4], [5,6]])\n",
        "w = torch.randn(1,2, dtype=torch.float)\n",
        "b = torch.randn(3,1, dtype=torch.float)\n",
        "\n",
        "result = torch.mm(x, torch.t(w)) + b # 방법 1\n",
        "# torch.t(w) == w.T\n",
        "# result = x @ w.T + b # 방법 2\n",
        "print(result)\n",
        "\n",
        "w = torch.tensor(1.0, requires_grad = True)\n",
        "a = w*3\n",
        "l = a**2\n",
        "l.backward()\n",
        "print('l을 w로 미분한 값은', w.grad)"
      ]
    },
    {
      "cell_type": "code",
      "source": [
        "import torch\n",
        "\n",
        "x_train = torch.FloatTensor([[1,2], [3,2], [3,7], [1,1], [1,0]])\n",
        "y_train = torch.FloatTensor([[4], [8], [23], [1], [-2]])\n",
        "\n",
        "w = torch.rand(2,1)\n",
        "b = torch.rand(1,1)\n",
        "\n",
        "lr = 0.01\n",
        "\n",
        "for epoch in range(3001):\n",
        "  w.requires_grad_(True)\n",
        "  b.requires_grad_(True)\n",
        "\n",
        "  hypothesis = torch.mm(x_train, w) + b\n",
        "  cost = torch.mean((hypothesis - y_train) ** 2)\n",
        "\n",
        "  cost.backward()\n",
        "  with torch.no_grad() as grd:\n",
        "    w = w - lr * w.grad\n",
        "    b = b - lr * b.grad\n",
        "\n",
        "    if epoch % 100 == 0:\n",
        "      print('epoch: {}, cost: {:.6f}, w: {}, b: {}'.format(epoch, cost.item(), w.squeeze(), b))"
      ],
      "metadata": {
        "colab": {
          "base_uri": "https://localhost:8080/"
        },
        "id": "O7-eLkd82sC9",
        "outputId": "2a45ec94-f53e-4899-fc3f-4cc8bf47c163"
      },
      "execution_count": null,
      "outputs": [
        {
          "output_type": "stream",
          "name": "stdout",
          "text": [
            "epoch: 0, cost: 64.970444, w: tensor([1.1490, 0.9301]), b: tensor([[0.4222]])\n",
            "epoch: 100, cost: 1.477624, w: tensor([0.7200, 3.1171]), b: tensor([[-1.4158]])\n",
            "epoch: 200, cost: 0.709719, w: tensor([0.9559, 3.1760]), b: tensor([[-2.2348]])\n",
            "epoch: 300, cost: 0.364100, w: tensor([1.2372, 3.1366]), b: tensor([[-2.7445]])\n",
            "epoch: 400, cost: 0.187110, w: tensor([1.4515, 3.0991]), b: tensor([[-3.1011]])\n",
            "epoch: 500, cost: 0.096159, w: tensor([1.6066, 3.0712]), b: tensor([[-3.3557]])\n",
            "epoch: 600, cost: 0.049418, w: tensor([1.7180, 3.0510]), b: tensor([[-3.5381]])\n",
            "epoch: 700, cost: 0.025397, w: tensor([1.7978, 3.0366]), b: tensor([[-3.6689]])\n",
            "epoch: 800, cost: 0.013052, w: tensor([1.8551, 3.0262]), b: tensor([[-3.7626]])\n",
            "epoch: 900, cost: 0.006708, w: tensor([1.8961, 3.0188]), b: tensor([[-3.8298]])\n",
            "epoch: 1000, cost: 0.003447, w: tensor([1.9255, 3.0135]), b: tensor([[-3.8780]])\n",
            "epoch: 1100, cost: 0.001772, w: tensor([1.9466, 3.0097]), b: tensor([[-3.9126]])\n",
            "epoch: 1200, cost: 0.000910, w: tensor([1.9617, 3.0069]), b: tensor([[-3.9373]])\n",
            "epoch: 1300, cost: 0.000468, w: tensor([1.9726, 3.0050]), b: tensor([[-3.9551]])\n",
            "epoch: 1400, cost: 0.000240, w: tensor([1.9803, 3.0036]), b: tensor([[-3.9678]])\n",
            "epoch: 1500, cost: 0.000124, w: tensor([1.9859, 3.0026]), b: tensor([[-3.9769]])\n",
            "epoch: 1600, cost: 0.000064, w: tensor([1.9899, 3.0018]), b: tensor([[-3.9834]])\n",
            "epoch: 1700, cost: 0.000033, w: tensor([1.9928, 3.0013]), b: tensor([[-3.9881]])\n",
            "epoch: 1800, cost: 0.000017, w: tensor([1.9948, 3.0009]), b: tensor([[-3.9915]])\n",
            "epoch: 1900, cost: 0.000009, w: tensor([1.9963, 3.0007]), b: tensor([[-3.9939]])\n",
            "epoch: 2000, cost: 0.000004, w: tensor([1.9973, 3.0005]), b: tensor([[-3.9956]])\n",
            "epoch: 2100, cost: 0.000002, w: tensor([1.9981, 3.0003]), b: tensor([[-3.9969]])\n",
            "epoch: 2200, cost: 0.000001, w: tensor([1.9986, 3.0002]), b: tensor([[-3.9978]])\n",
            "epoch: 2300, cost: 0.000001, w: tensor([1.9990, 3.0002]), b: tensor([[-3.9984]])\n",
            "epoch: 2400, cost: 0.000000, w: tensor([1.9993, 3.0001]), b: tensor([[-3.9988]])\n",
            "epoch: 2500, cost: 0.000000, w: tensor([1.9995, 3.0001]), b: tensor([[-3.9992]])\n",
            "epoch: 2600, cost: 0.000000, w: tensor([1.9996, 3.0001]), b: tensor([[-3.9994]])\n",
            "epoch: 2700, cost: 0.000000, w: tensor([1.9997, 3.0000]), b: tensor([[-3.9996]])\n",
            "epoch: 2800, cost: 0.000000, w: tensor([1.9998, 3.0000]), b: tensor([[-3.9997]])\n",
            "epoch: 2900, cost: 0.000000, w: tensor([1.9999, 3.0000]), b: tensor([[-3.9998]])\n",
            "epoch: 3000, cost: 0.000000, w: tensor([1.9999, 3.0000]), b: tensor([[-3.9998]])\n"
          ]
        }
      ]
    },
    {
      "cell_type": "code",
      "source": [
        "x_test = torch.FloatTensor([[5,10]])\n",
        "test_result = torch.mm(x_test, w) + b\n",
        "print(test_result)"
      ],
      "metadata": {
        "colab": {
          "base_uri": "https://localhost:8080/"
        },
        "id": "9uyPWSa_3xMz",
        "outputId": "244e69e8-61a7-4eab-e68d-53f37a7e8928"
      },
      "execution_count": null,
      "outputs": [
        {
          "output_type": "stream",
          "name": "stdout",
          "text": [
            "tensor([[35.9998]])\n"
          ]
        }
      ]
    },
    {
      "cell_type": "code",
      "source": [
        "from sklearn.linear_model import LinearRegression\n",
        "\n",
        "x = [[1,2], [3,2], [3,7], [1,1], [1,0]]\n",
        "y = [[4], [8], [23], [1], [-2]]\n",
        "\n",
        "lr = LinearRegression()\n",
        "lr.fit(x, y)\n",
        "\n",
        "print(lr.coef_, lr.intercept_)\n",
        "\n",
        "print(lr.predict([[5,10]]))"
      ],
      "metadata": {
        "colab": {
          "base_uri": "https://localhost:8080/"
        },
        "id": "g49_EfL53-5K",
        "outputId": "d41ffdf2-ba35-43f3-94b8-a45b3c08fea9"
      },
      "execution_count": null,
      "outputs": [
        {
          "output_type": "stream",
          "name": "stdout",
          "text": [
            "[[2. 3.]] [-4.]\n",
            "[[36.]]\n"
          ]
        }
      ]
    },
    {
      "cell_type": "markdown",
      "source": [
        "Logistic Regression"
      ],
      "metadata": {
        "id": "BJKkymQHCTN8"
      }
    },
    {
      "cell_type": "code",
      "source": [
        "import torch\n",
        "\n",
        "x_train = torch.FloatTensor([[1],[2],[3],[4],[5],[2.5],[3.5],[0],[3.1],[2.7],[2.8],[2.9]])\n",
        "y_train = torch.FloatTensor([[1],[1],[1],[0],[0],[0],[0],[1],[0],[1],[1],[1]])\n",
        "\n",
        "w = torch.zeros(1,1)\n",
        "b = torch.zeros(1,1)\n",
        "# bce = torch.nn.BCELoss() # 방법 2\n",
        "\n",
        "lr = 1.0\n",
        "\n",
        "for epoch in range(3001):\n",
        "  w.requires_grad_(True)\n",
        "  b.requires_grad_(True)\n",
        "\n",
        "  hypothesis = torch.sigmoid(torch.mm(x_train, w) + b)\n",
        "  cost = torch.mean(-y_train * torch.log(hypothesis) -(1 - y_train) * torch.log(1 - hypothesis)) # 방법 1\n",
        "  # cost = bce(h, y_train) # 방법 2\n",
        "\n",
        "  cost.backward() # grad 값들이 0이라는 가정하에 계산\n",
        "  with torch.no_grad() as grd:\n",
        "    w = w - lr * w.grad\n",
        "    b = b - lr * b.grad\n",
        "\n",
        "    if epoch % 100 == 0:\n",
        "      print('epoch: {}, cost: {:.6f}, w: {:.6f}, b: {:.6f}'.format(epoch, cost.item(), w.squeeze(), b.squeeze()))\n"
      ],
      "metadata": {
        "colab": {
          "base_uri": "https://localhost:8080/"
        },
        "id": "2VSY1mw44e0x",
        "outputId": "271581be-46b5-4d5c-e44a-ee6dab10bdbb"
      },
      "execution_count": null,
      "outputs": [
        {
          "output_type": "stream",
          "name": "stdout",
          "text": [
            "epoch: 0, cost: 0.693147, w: -0.154167, b: 0.083333\n",
            "epoch: 100, cost: 0.420221, w: -1.451281, b: 4.406925\n",
            "epoch: 200, cost: 0.398721, w: -1.898433, b: 5.773750\n",
            "epoch: 300, cost: 0.390820, w: -2.174322, b: 6.609553\n",
            "epoch: 400, cost: 0.387009, w: -2.367329, b: 7.191599\n",
            "epoch: 500, cost: 0.384924, w: -2.510626, b: 7.622530\n",
            "epoch: 600, cost: 0.383699, w: -2.620779, b: 7.953164\n",
            "epoch: 700, cost: 0.382944, w: -2.707397, b: 8.212804\n",
            "epoch: 800, cost: 0.382463, w: -2.776597, b: 8.420023\n",
            "epoch: 900, cost: 0.382149, w: -2.832521, b: 8.587363\n",
            "epoch: 1000, cost: 0.381941, w: -2.878112, b: 8.723699\n",
            "epoch: 1100, cost: 0.381801, w: -2.915530, b: 8.835541\n",
            "epoch: 1200, cost: 0.381706, w: -2.946401, b: 8.927779\n",
            "epoch: 1300, cost: 0.381641, w: -2.971979, b: 9.004180\n",
            "epoch: 1400, cost: 0.381596, w: -2.993242, b: 9.067673\n",
            "epoch: 1500, cost: 0.381565, w: -3.010968, b: 9.120598\n",
            "epoch: 1600, cost: 0.381543, w: -3.025776, b: 9.164800\n",
            "epoch: 1700, cost: 0.381528, w: -3.038172, b: 9.201797\n",
            "epoch: 1800, cost: 0.381517, w: -3.048561, b: 9.232802\n",
            "epoch: 1900, cost: 0.381509, w: -3.057279, b: 9.258815\n",
            "epoch: 2000, cost: 0.381504, w: -3.064605, b: 9.280675\n",
            "epoch: 2100, cost: 0.381500, w: -3.070765, b: 9.299053\n",
            "epoch: 2200, cost: 0.381497, w: -3.075948, b: 9.314517\n",
            "epoch: 2300, cost: 0.381495, w: -3.080314, b: 9.327539\n",
            "epoch: 2400, cost: 0.381494, w: -3.083991, b: 9.338510\n",
            "epoch: 2500, cost: 0.381493, w: -3.087090, b: 9.347754\n",
            "epoch: 2600, cost: 0.381493, w: -3.089704, b: 9.355551\n",
            "epoch: 2700, cost: 0.381492, w: -3.091908, b: 9.362126\n",
            "epoch: 2800, cost: 0.381492, w: -3.093769, b: 9.367676\n",
            "epoch: 2900, cost: 0.381491, w: -3.095338, b: 9.372355\n",
            "epoch: 3000, cost: 0.381491, w: -3.096662, b: 9.376306\n"
          ]
        }
      ]
    },
    {
      "cell_type": "code",
      "source": [
        "x_test = torch.FloatTensor([[4.5],[1.1]])\n",
        "test_result = torch.sigmoid(torch.mm(x_test, w) + b)\n",
        "print(torch.round(test_result))"
      ],
      "metadata": {
        "colab": {
          "base_uri": "https://localhost:8080/"
        },
        "id": "mEtQYlQN5sUf",
        "outputId": "30161b68-a48d-4c66-f886-cf1b42af1249"
      },
      "execution_count": null,
      "outputs": [
        {
          "output_type": "stream",
          "name": "stdout",
          "text": [
            "tensor([[0.],\n",
            "        [1.]])\n"
          ]
        }
      ]
    },
    {
      "cell_type": "code",
      "source": [
        "w = torch.randn(1,1,requires_grad=True)\n",
        "b = torch.randn(1,1,requires_grad=True)\n",
        "\n",
        "optimizer = torch.optim.SGD([w,b], lr=1.0)\n",
        "\n",
        "# optimizer = torch.optim.Adam([w,b], lr=1.0)\n",
        "# optimizer = torch.optim.Adadelta([w,b])\n",
        "# optimizer = torch.optim.Adagrad([w,b])\n",
        "# optimizer = torch.optim.RMSprop([w,b])\n",
        "\n",
        "for epoch in range(3001):\n",
        "\n",
        "  h = torch.sigmoid(x_train @ w + b)\n",
        "  cost = torch.mean(-y_train * torch.log(h) -(1-y_train) * torch.log(1-h))\n",
        "\n",
        "  optimizer.zero_grad()\n",
        "  cost.backward()\n",
        "  optimizer.step()\n",
        "\n",
        "  with torch.no_grad():\n",
        "    if epoch % 100 == 0:\n",
        "      print(epoch, cost.item(), w.item(), b.item())"
      ],
      "metadata": {
        "colab": {
          "base_uri": "https://localhost:8080/"
        },
        "id": "l7lN3SM86EhJ",
        "outputId": "9ad0244e-c70e-4b1b-8c7c-23408499302a"
      },
      "execution_count": null,
      "outputs": [
        {
          "output_type": "stream",
          "name": "stdout",
          "text": [
            "0 0.6274030804634094 -0.16432303190231323 0.7007696628570557\n",
            "100 0.41834259033203125 -1.4811538457870483 4.498821258544922\n",
            "200 0.3981444537639618 -1.9152185916900635 5.8247456550598145\n",
            "300 0.39056214690208435 -2.1856212615966797 6.643683910369873\n",
            "400 0.38687312602996826 -2.3755435943603516 7.216330051422119\n",
            "500 0.384846568107605 -2.516857862472534 7.6412506103515625\n",
            "600 0.38365164399147034 -2.625636339187622 7.967731475830078\n",
            "700 0.3829139471054077 -2.7112531661987305 8.224355697631836\n",
            "800 0.38244369626045227 -2.7796971797943115 8.429304122924805\n",
            "900 0.3821367919445038 -2.835040807723999 8.594898223876953\n",
            "1000 0.3819330036640167 -2.8801748752593994 8.729865074157715\n",
            "1100 0.3817957639694214 -2.917227268218994 8.840612411499023\n",
            "1200 0.38170233368873596 -2.9478044509887695 8.931971549987793\n",
            "1300 0.3816383183002472 -2.97314453125 9.007659912109375\n",
            "1400 0.3815940320491791 -2.9942104816436768 9.070566177368164\n",
            "1500 0.38156330585479736 -3.0117764472961426 9.12300968170166\n",
            "1600 0.3815418779850006 -3.0264523029327393 9.166817665100098\n",
            "1700 0.38152679800987244 -3.0387377738952637 9.203485488891602\n",
            "1800 0.3815162181854248 -3.0490365028381348 9.234219551086426\n",
            "1900 0.3815089166164398 -3.05767822265625 9.26000690460205\n",
            "2000 0.38150349259376526 -3.0649404525756836 9.2816743850708\n",
            "2100 0.38149991631507874 -3.071047782897949 9.299896240234375\n",
            "2200 0.38149726390838623 -3.0761873722076416 9.315229415893555\n",
            "2300 0.3814953863620758 -3.080514669418335 9.328139305114746\n",
            "2400 0.38149401545524597 -3.084160804748535 9.33901596069336\n",
            "2500 0.38149306178092957 -3.087233781814575 9.348182678222656\n",
            "2600 0.38149240612983704 -3.0898256301879883 9.355913162231445\n",
            "2700 0.3814919888973236 -3.092010974884033 9.362432479858398\n",
            "2800 0.38149166107177734 -3.0938549041748047 9.36793327331543\n",
            "2900 0.3814913332462311 -3.0954110622406006 9.372574806213379\n",
            "3000 0.38149121403694153 -3.096724271774292 9.37649154663086\n"
          ]
        }
      ]
    },
    {
      "cell_type": "code",
      "source": [
        "import matplotlib.pyplot as plt\n",
        "w.requires_grad_(False)\n",
        "b.requires_grad_(False)\n",
        "\n",
        "x = torch.linspace(0,5,100).unsqueeze(1) # torch.linspace(0,5,100) # 0부터 5까지 100개로 쪼개라\n",
        "# [0.1, 0.2, ...] -> [[0.1], [0.2], ...]\n",
        "y = torch.sigmoid(torch.mm(x,w)+b)\n",
        "\n",
        "plt.scatter(x_train, y_train, c=\"black\")\n",
        "plt.plot(x, y, c=\"#ff0000\")\n",
        "plt.show()"
      ],
      "metadata": {
        "colab": {
          "base_uri": "https://localhost:8080/",
          "height": 430
        },
        "id": "2XVTVcqz6Y89",
        "outputId": "f32bdec2-4464-4250-d12d-160d5cd93b66"
      },
      "execution_count": null,
      "outputs": [
        {
          "output_type": "display_data",
          "data": {
            "text/plain": [
              "<Figure size 640x480 with 1 Axes>"
            ],
            "image/png": "[encoded data removed]"
          },
          "metadata": {}
        }
      ]
    },
    {
      "cell_type": "code",
      "source": [
        "from sklearn.linear_model import LogisticRegression\n",
        "\n",
        "x_train = [[1],[2],[3],[4],[5],[2.5],[3.5],[0],[3.1],[2.7],[2.8],[2.9]]\n",
        "y_train = [1,1,1,0,0,0,0,1,0,1,1,1]\n",
        "\n",
        "model = LogisticRegression(penalty=None)\n",
        "model.fit(x_train, y_train)\n",
        "\n",
        "print(model.coef_, model.intercept_)\n",
        "\n",
        "x_test = [[4.5], [1.1]]\n",
        "result = model.predict(x_test)\n",
        "print(result)"
      ],
      "metadata": {
        "colab": {
          "base_uri": "https://localhost:8080/"
        },
        "id": "9cnF9_XU6zRa",
        "outputId": "8b2808eb-2c04-449e-81e5-9f399cf96526"
      },
      "execution_count": null,
      "outputs": [
        {
          "output_type": "stream",
          "name": "stdout",
          "text": [
            "[[-3.10385806]] [9.39776831]\n",
            "[0 1]\n"
          ]
        }
      ]
    },
    {
      "cell_type": "markdown",
      "source": [
        "Softmax Regression"
      ],
      "metadata": {
        "id": "UG5dWL1UCYhk"
      }
    },
    {
      "cell_type": "code",
      "source": [
        "import torch\n",
        "\n",
        "x_train = torch.FloatTensor([ [1,2,1,1], [2,1,3,2], [3,1,3,4], [4,1,5,5], [1,7,5,5], [1,2,5,6], [1,6,6,6], [1,7,7,7] ])\n",
        "y_train = torch.FloatTensor([ [0,0,1], [0,0,1], [0,0,1], [0,1,0], [0,1,0], [0,1,0], [1,0,0], [1,0,0] ])\n",
        "\n",
        "w = torch.randn(4, 3, requires_grad=True)\n",
        "b = torch.randn(1, 3, requires_grad=True)\n",
        "\n",
        "optimizer = torch.optim.Adam([w,b], lr=0.1)\n",
        "\n",
        "# print(x_train)\n",
        "# print(w)\n",
        "# print(torch.mm(x_train, w))\n",
        "# print(b)\n",
        "# print(torch.mm(x_train, w)+b)\n",
        "\n",
        "for epoch in range(3001):\n",
        "  hypothesis = torch.softmax(torch.mm(x_train, w)+b, dim=1)\n",
        "  cost = -torch.mean(torch.sum(y_train * torch.log(hypothesis), dim=1))\n",
        "\n",
        "  optimizer.zero_grad()\n",
        "  cost.backward()\n",
        "  optimizer.step()\n",
        "\n",
        "  with torch.no_grad():\n",
        "    if epoch % 300 == 0:\n",
        "      print(\"epoch; {}, cost: {:.6f}\".format(epoch, cost.item()))"
      ],
      "metadata": {
        "colab": {
          "base_uri": "https://localhost:8080/"
        },
        "id": "HgsZrrXe7Tw5",
        "outputId": "20304a10-f20a-4621-b20c-12adb316e10d"
      },
      "execution_count": null,
      "outputs": [
        {
          "output_type": "stream",
          "name": "stdout",
          "text": [
            "epoch; 0, cost: 7.128643\n",
            "epoch; 300, cost: 0.194833\n",
            "epoch; 600, cost: 0.092508\n",
            "epoch; 900, cost: 0.053266\n",
            "epoch; 1200, cost: 0.034186\n",
            "epoch; 1500, cost: 0.023556\n",
            "epoch; 1800, cost: 0.017054\n",
            "epoch; 2100, cost: 0.012795\n",
            "epoch; 2400, cost: 0.009859\n",
            "epoch; 2700, cost: 0.007754\n",
            "epoch; 3000, cost: 0.006196\n"
          ]
        }
      ]
    },
    {
      "cell_type": "code",
      "source": [
        "w.requires_grad_(False)\n",
        "b.requires_grad_(False)\n",
        "\n",
        "x_test = torch.FloatTensor([[1,11,10,9], [1,3,4,3], [1,1,0,1]])\n",
        "test_all = torch.softmax(torch.mm(x_test, w)+b, dim=1)\n",
        "print(test_all)\n",
        "print(torch.argmax(test_all, dim=1))"
      ],
      "metadata": {
        "colab": {
          "base_uri": "https://localhost:8080/"
        },
        "id": "gQyKSJtRADJa",
        "outputId": "650b3a29-f515-4933-b7fb-1de69e091a0a"
      },
      "execution_count": null,
      "outputs": [
        {
          "output_type": "stream",
          "name": "stdout",
          "text": [
            "tensor([[1.0000e+00, 6.1884e-17, 1.0082e-33],\n",
            "        [3.7945e-05, 7.4699e-01, 2.5297e-01],\n",
            "        [3.5162e-30, 2.1404e-10, 1.0000e+00]])\n",
            "tensor([0, 1, 2])\n"
          ]
        }
      ]
    },
    {
      "cell_type": "code",
      "source": [
        "a = torch.FloatTensor([[1,3,2,6,4], [7,2,9,3,8]])\n",
        "print(torch.argmax(a, dim=1))\n",
        "print(torch.argmax(a))"
      ],
      "metadata": {
        "colab": {
          "base_uri": "https://localhost:8080/"
        },
        "id": "ek1uGEMj1-L8",
        "outputId": "9cc56faf-d356-49d5-d8cc-267a99583126"
      },
      "execution_count": null,
      "outputs": [
        {
          "output_type": "stream",
          "name": "stdout",
          "text": [
            "tensor([3, 2])\n",
            "tensor(7)\n"
          ]
        }
      ]
    },
    {
      "cell_type": "code",
      "source": [
        "import torch\n",
        "import torch.nn.functional as F\n",
        "import torch.nn as nn\n",
        "\n",
        "x_train = torch.FloatTensor([[1,2,1,1],[2,1,3,2],[3,1,3,4],[4,1,5,5],[1,7,5,5],[1,2,5,6],[1,6,6,6],[1,7,7,7]])\n",
        "y_train = torch.LongTensor([ 2,2,2,1,1,1,0,0 ])\n",
        "\n",
        "model = nn.Linear(4,3)\n",
        "# print(model) # bias = True는 b가 있다는 뜻!\n",
        "# for x in model.parameters():\n",
        "#   print(x)\n",
        "\n",
        "optimizer = torch.optim.Adam(model.parameters(), lr=0.1)\n",
        "\n",
        "for epoch in range(3001):\n",
        "  h = model(x_train)\n",
        "  cost = F.cross_entropy(h, y_train)\n",
        "\n",
        "  optimizer.zero_grad()\n",
        "  cost.backward()\n",
        "  optimizer.step()\n",
        "\n",
        "  with torch.no_grad():\n",
        "    if epoch % 100 == 0:\n",
        "      print(\"epoch: {}, cost: {:.6f}\".format(epoch, cost.item()))"
      ],
      "metadata": {
        "id": "lSA6phlmAb3J",
        "colab": {
          "base_uri": "https://localhost:8080/"
        },
        "outputId": "cd2a420a-6955-43a0-a417-1b63330a684c"
      },
      "execution_count": null,
      "outputs": [
        {
          "output_type": "stream",
          "name": "stdout",
          "text": [
            "epoch: 0, cost: 2.466883\n",
            "epoch: 100, cost: 0.344061\n",
            "epoch: 200, cost: 0.225453\n",
            "epoch: 300, cost: 0.156072\n",
            "epoch: 400, cost: 0.114271\n",
            "epoch: 500, cost: 0.087339\n",
            "epoch: 600, cost: 0.068934\n",
            "epoch: 700, cost: 0.055775\n",
            "epoch: 800, cost: 0.046031\n",
            "epoch: 900, cost: 0.038611\n",
            "epoch: 1000, cost: 0.032829\n",
            "epoch: 1100, cost: 0.028235\n",
            "epoch: 1200, cost: 0.024523\n",
            "epoch: 1300, cost: 0.021480\n",
            "epoch: 1400, cost: 0.018954\n",
            "epoch: 1500, cost: 0.016834\n",
            "epoch: 1600, cost: 0.015036\n",
            "epoch: 1700, cost: 0.013499\n",
            "epoch: 1800, cost: 0.012174\n",
            "epoch: 1900, cost: 0.011023\n",
            "epoch: 2000, cost: 0.010018\n",
            "epoch: 2100, cost: 0.009134\n",
            "epoch: 2200, cost: 0.008353\n",
            "epoch: 2300, cost: 0.007660\n",
            "epoch: 2400, cost: 0.007042\n",
            "epoch: 2500, cost: 0.006488\n",
            "epoch: 2600, cost: 0.005990\n",
            "epoch: 2700, cost: 0.005542\n",
            "epoch: 2800, cost: 0.005135\n",
            "epoch: 2900, cost: 0.004767\n",
            "epoch: 3000, cost: 0.004431\n"
          ]
        }
      ]
    },
    {
      "cell_type": "code",
      "source": [
        "import numpy as np\n",
        "from sklearn.linear_model import LogisticRegression\n",
        "\n",
        "x_train = np.array([[1,2,1,1], [2,1,3,2], [3,1,3,4], [4,1,5,5], [1,7,5,5], [1,2,5,6], [1,6,6,6], [1,7,7,7]])\n",
        "\n",
        "y_train = np.array([ 2, 2, 2, 1, 1, 1, 0, 0 ])\n",
        "\n",
        "logistic = LogisticRegression()\n",
        "logistic.fit(x_train, y_train)\n",
        "\n",
        "pred = logistic.predict([[1,11,10,9], [1,3,4,3], [1,1,0,1]])\n",
        "print(pred)"
      ],
      "metadata": {
        "colab": {
          "base_uri": "https://localhost:8080/"
        },
        "id": "_0FSqHO_A509",
        "outputId": "5a13ad98-7351-4af4-85a2-3f457d24f46d"
      },
      "execution_count": null,
      "outputs": [
        {
          "output_type": "stream",
          "name": "stdout",
          "text": [
            "[0 2 2]\n"
          ]
        }
      ]
    }
  ]
}